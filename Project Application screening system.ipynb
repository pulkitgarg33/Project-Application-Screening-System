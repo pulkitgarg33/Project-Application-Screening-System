{
  "cells": [
    {
      "metadata": {
        "_uuid": "8f2839f25d086af736a60e9eeb907d3b93b6e0e5",
        "_cell_guid": "b1076dfc-b9ad-4769-8c92-a6c4dae69d19",
        "trusted": true
      },
      "cell_type": "code",
      "source": "# This Python 3 environment comes with many helpful analytics libraries installed\n# It is defined by the kaggle/python docker image: https://github.com/kaggle/docker-python\n# For example, here's several helpful packages to load in \n\nimport numpy as np # linear algebra\nimport pandas as pd # data processing, CSV file I/O (e.g. pd.read_csv)\nimport matplotlib.pyplot as plt\nimport seaborn as sns\n# Input data files are available in the \"../input/\" directory.\n# For example, running this (by clicking run or pressing Shift+Enter) will list the files in the input directory\n\nimport os\nprint(os.listdir(\"../input\"))\n\n# Any results you write to the current directory are saved as output.",
      "execution_count": null,
      "outputs": []
    },
    {
      "metadata": {
        "_cell_guid": "79c7e3d0-c299-4dcb-8224-4455121ee9b0",
        "_uuid": "d629ff2d2480ee46fbb7e2d37f6b5fab8052498a",
        "trusted": true
      },
      "cell_type": "code",
      "source": "dataset = pd.read_csv('../input/train.csv')\nresource = pd.read_csv('../input/resources.csv')\ntest = pd.read_csv('../input/test.csv')\n ",
      "execution_count": null,
      "outputs": []
    },
    {
      "metadata": {
        "trusted": true,
        "_uuid": "f3292b2ce3ac9015d78bf633696a07edcedbff11"
      },
      "cell_type": "code",
      "source": "resource = resource.drop('description' , 1)\nresource = resource.set_index('id').sum(level = 0).reset_index()\ndataset = dataset.merge(resource , how= 'left' , on = 'id')\ntest = test.merge(resource , how= 'left' , on = 'id')\n",
      "execution_count": null,
      "outputs": []
    },
    {
      "metadata": {
        "trusted": true,
        "_uuid": "a39318883b413094339cbc6f1e586a70716c6892"
      },
      "cell_type": "code",
      "source": "dataset['cost'] = dataset['quantity'] + dataset['price']\ntest['cost'] = test['quantity'] + test['price']",
      "execution_count": null,
      "outputs": []
    },
    {
      "metadata": {
        "trusted": true,
        "_uuid": "96eb8193ff870ebeb5cc00a0a7bfe12d0d1450e9"
      },
      "cell_type": "code",
      "source": "dataset.isna().sum()",
      "execution_count": null,
      "outputs": []
    },
    {
      "metadata": {
        "trusted": true,
        "_uuid": "9ef4956cc52f98673403b68d62314c49458018ec"
      },
      "cell_type": "code",
      "source": "test.isna().sum()",
      "execution_count": null,
      "outputs": []
    },
    {
      "metadata": {
        "trusted": true,
        "_uuid": "2250f0ecac6d8251e4f86b70f8b82d31a555a38b"
      },
      "cell_type": "code",
      "source": "\ndataset = dataset.drop(['quantity' , 'price'] ,1)\ndataset = dataset.drop(['project_essay_3', 'project_essay_4'] ,1)\n\ntest = test.drop(['quantity' , 'price'] ,1)\ntest = test.drop(['project_essay_3', 'project_essay_4'] ,1)\n",
      "execution_count": null,
      "outputs": []
    },
    {
      "metadata": {
        "trusted": true,
        "scrolled": true,
        "_uuid": "b5022d4fa04d9d899f313b7fc159804f674da62d"
      },
      "cell_type": "code",
      "source": "dataset",
      "execution_count": null,
      "outputs": []
    },
    {
      "metadata": {
        "trusted": true,
        "_uuid": "78a4959eba24d74440470629960ea698b6e31e09"
      },
      "cell_type": "code",
      "source": "sns.catplot(x='school_state', y='project_is_approved',  kind='bar', data=dataset)",
      "execution_count": null,
      "outputs": []
    },
    {
      "metadata": {
        "_uuid": "e615537d7162817a0ee1712794d674f91e985c88"
      },
      "cell_type": "markdown",
      "source": "HENCE THE CHANCE OF A PROJECT BEING APPROVED IS ALMOST QUALLY LIKELY FROM ANY STATE"
    },
    {
      "metadata": {
        "trusted": true,
        "_uuid": "9fc6c67c95365b306a093dd81f0f0bf89c83578d"
      },
      "cell_type": "code",
      "source": "sns.catplot(x='project_grade_category', y='project_is_approved',  kind='bar', data=dataset)",
      "execution_count": null,
      "outputs": []
    },
    {
      "metadata": {
        "trusted": true,
        "_uuid": "40d1f394f40963e93bd82c2b4acbe0d7378285b6"
      },
      "cell_type": "code",
      "source": "dataset.drop(['project_grade_category' , 'school_state'] , axis =1 , inplace = True)\ntest.drop(['project_grade_category' , 'school_state'] , axis =1 , inplace = True)",
      "execution_count": null,
      "outputs": []
    },
    {
      "metadata": {
        "_uuid": "4dd1875a778d1e533ebe3c13064ac5c1dbf51d94"
      },
      "cell_type": "markdown",
      "source": ""
    },
    {
      "metadata": {
        "_uuid": "7885848d1d60f874be208c85aa73d72cb41c7aba"
      },
      "cell_type": "markdown",
      "source": "HENCE THE CHANCE OF A PROJECT BEING APPROVED IS ALMOST QUALLY LIKELY FROM ANY GRADE"
    },
    {
      "metadata": {
        "_kg_hide-output": false,
        "_kg_hide-input": false,
        "trusted": true,
        "_uuid": "6d9b35739d5851ad334ecae354723daedefd668c"
      },
      "cell_type": "code",
      "source": "print(dataset[['project_subject_categories', 'project_is_approved']].groupby(['project_subject_categories']).mean())\nsns.catplot(x='project_subject_categories', y='project_is_approved',  kind='bar', data=dataset)",
      "execution_count": null,
      "outputs": []
    },
    {
      "metadata": {
        "trusted": true,
        "_uuid": "e7ee9ef85078d1ad02807316977701bedb634bcc"
      },
      "cell_type": "code",
      "source": "dataset.columns",
      "execution_count": null,
      "outputs": []
    },
    {
      "metadata": {
        "trusted": true,
        "_uuid": "aced3a7bb88252579560042eebfff0d56c677341"
      },
      "cell_type": "code",
      "source": "print(dataset[['teacher_prefix', 'project_is_approved']].groupby(['teacher_prefix']).mean())\nsns.catplot(x='teacher_prefix', y='project_is_approved',  kind='bar', data=dataset)",
      "execution_count": null,
      "outputs": []
    },
    {
      "metadata": {
        "_uuid": "3f6aa4f6c81fb3788e496d2203a666c51bfc144a"
      },
      "cell_type": "markdown",
      "source": "HENCE MR. MRS. AND MS. HAVE ALMOST EQUALLY LIKELY RATE OF APPROVAL, WHICH IS HIGHER THAN TEACHER AND DR."
    },
    {
      "metadata": {
        "trusted": true,
        "_uuid": "e6558ec51a9df6dd80a53bec523720d1bb7622b4"
      },
      "cell_type": "code",
      "source": "print(dataset[['project_subject_subcategories', 'project_is_approved']].groupby(['project_subject_subcategories']).mean())\nsns.catplot(x='project_subject_subcategories', y='project_is_approved',  kind='bar', data=dataset)",
      "execution_count": null,
      "outputs": []
    },
    {
      "metadata": {
        "trusted": true,
        "_uuid": "588fc4ba180f2908c8b56950685b0c911ec07aeb"
      },
      "cell_type": "code",
      "source": "dataset['cost'].hist()",
      "execution_count": null,
      "outputs": []
    },
    {
      "metadata": {
        "trusted": true,
        "_uuid": "37a0031cd4e8a1874d69b66b078ff091ca235513"
      },
      "cell_type": "code",
      "source": "print(len(dataset))\nprint(dataset['project_is_approved'].sum())",
      "execution_count": null,
      "outputs": []
    },
    {
      "metadata": {
        "trusted": true,
        "_uuid": "20baec7d496142930546756c7d1c4fcc8cd24e82"
      },
      "cell_type": "code",
      "source": "group = pd.cut(dataset.cost, [0,1000,20000])\npiv_fare = dataset.pivot_table(index=group, columns='project_is_approved', values = 'cost', aggfunc='count')\npiv_fare.plot(kind='bar')",
      "execution_count": null,
      "outputs": []
    },
    {
      "metadata": {
        "trusted": true,
        "_uuid": "45382a2b952073843fa90fd145fe5bbe3a5a71dc"
      },
      "cell_type": "code",
      "source": "dataset['cost'][dataset['cost'] ==0].shape",
      "execution_count": null,
      "outputs": []
    },
    {
      "metadata": {
        "_uuid": "439dc6d007d0ac4bfc95bc182c923b2bd319d63f"
      },
      "cell_type": "markdown",
      "source": "**Hence the low cost projects are more likely to be approved**"
    },
    {
      "metadata": {
        "trusted": true,
        "_uuid": "63efdefcb06294537e805e2334a5c0c6fd657c7e"
      },
      "cell_type": "code",
      "source": "dataset",
      "execution_count": null,
      "outputs": []
    },
    {
      "metadata": {
        "trusted": true,
        "_uuid": "6924f175ce1947d9861a6e47f1f5cba462f48a68"
      },
      "cell_type": "code",
      "source": "group = pd.cut(dataset.teacher_number_of_previously_posted_projects, [0,5 , 10 , 20 , 30 ,40 , 50 , 60])\npiv_fare = dataset.pivot_table(index=group, columns='project_is_approved', values = 'teacher_number_of_previously_posted_projects', aggfunc='count')\npiv_fare.plot(kind='bar')\n\n",
      "execution_count": null,
      "outputs": []
    },
    {
      "metadata": {
        "trusted": true,
        "_uuid": "20bf7f27eb102e41dfb1b45da5e042382ce28574"
      },
      "cell_type": "code",
      "source": "print(dataset[['teacher_number_of_previously_posted_projects', 'project_is_approved']].groupby(pd.cut(dataset.teacher_number_of_previously_posted_projects, [0, 100 , 500 ])).mean())",
      "execution_count": null,
      "outputs": []
    },
    {
      "metadata": {
        "_uuid": "32f393342de74d4a64d97ddf62d40ff4da2f2dd6"
      },
      "cell_type": "markdown",
      "source": "**hence the history of the person regarding projects proposed, effects the approval of currant project**\n\n\n"
    },
    {
      "metadata": {
        "trusted": true,
        "_uuid": "a5b6bbe2938986fcd7bba40f97f367a2c2d3325c"
      },
      "cell_type": "code",
      "source": "topic_prob = dataset[['project_subject_subcategories', 'project_subject_categories', 'project_is_approved']].groupby(['project_subject_categories' , 'project_subject_subcategories']).mean()\n",
      "execution_count": null,
      "outputs": []
    },
    {
      "metadata": {
        "trusted": true,
        "_uuid": "d5af6e5e42b884632f953af57edfaf111b478d83"
      },
      "cell_type": "code",
      "source": "dataset = dataset.merge(topic_prob , how= 'left' , on = ['project_subject_categories' , 'project_subject_subcategories'])\ntest = test.merge(topic_prob , how= 'left' , on = ['project_subject_categories' , 'project_subject_subcategories'])\n",
      "execution_count": null,
      "outputs": []
    },
    {
      "metadata": {
        "trusted": true,
        "_uuid": "7f35e9f58cca87292faa9607a5c5283149b95b61"
      },
      "cell_type": "code",
      "source": "dataset.drop(['project_subject_categories' , 'project_subject_subcategories'] , axis =1 , inplace = True)\ntest.drop(['project_subject_categories' , 'project_subject_subcategories'] , axis =1 , inplace = True)",
      "execution_count": null,
      "outputs": []
    },
    {
      "metadata": {
        "trusted": true,
        "_uuid": "a980ac16fcab3f30ab9223858993c065478f4c34"
      },
      "cell_type": "code",
      "source": "dataset['project_essay_1'] = dataset['project_essay_1'] + dataset['project_essay_2']\ntest['project_essay_1'] = test['project_essay_1'] + test['project_essay_2']",
      "execution_count": null,
      "outputs": []
    },
    {
      "metadata": {
        "trusted": true,
        "_uuid": "a97896f9a707f7d2d683ac859bbc03891ca2bdc3"
      },
      "cell_type": "code",
      "source": "dataset.drop('project_essay_2' , axis =1 , inplace = True)\ntest.drop('project_essay_2' , axis =1 , inplace = True)",
      "execution_count": null,
      "outputs": []
    },
    {
      "metadata": {
        "_uuid": "486a8569133c0482de6cf7199aa3cbf054039081"
      },
      "cell_type": "markdown",
      "source": "**NOW CHECKING WHETHER THE DATE OF PROPOSAL OF PROJECTS EFFECTS ITS CHANCES OF GETTING APPROVED**"
    },
    {
      "metadata": {
        "trusted": true,
        "_uuid": "c821592ad158d741fb9facbebac306b2fa1f70b8"
      },
      "cell_type": "code",
      "source": "\"\"\"\nimport datetime\ndef dow(date):\n    days=[\"Monday\",\"Tuesday\",\"Wednesday\",\"Thursday\",\"Friday\",\"Saturday\",\"Sunday\"]\n    dayNumber=date.weekday()\n    return days[dayNumber]\ndef preprocess_price(price1):\n    for i in range(len(price1)): \n       price1.loc[i,'Day'] = int(price1.loc[i,'project_submitted_datetime'].split(' ')[0].split('-')[2])    \n       price1.loc[i,'Month'] = int(price1.loc[i,'project_submitted_datetime'].split(' ')[0].split('-')[1])    \n       price1.loc[i,'Year'] = int(price1.loc[i,'project_submitted_datetime'].split(' ')[0].split('-')[0])    \n       price1.loc[i , 'weekday'] = dow(datetime.date(int(price1.loc[i,'Year']) , int(price1.loc[i,'Month']) , int(price1.loc[i,'Day'])))\n    price1 = price1.drop('project_submitted_datetime' , axis =1)\n    return price1\n\"\"\"",
      "execution_count": null,
      "outputs": []
    },
    {
      "metadata": {
        "trusted": true,
        "_uuid": "cc3389c4253d915730cbe10a8ab2841e5af2cded"
      },
      "cell_type": "code",
      "source": "#new_data = preprocess_price(dataset)",
      "execution_count": null,
      "outputs": []
    },
    {
      "metadata": {
        "trusted": true,
        "_uuid": "c248aff58666f4352058b8477f8d72ed53a9b30f"
      },
      "cell_type": "code",
      "source": "dataset",
      "execution_count": null,
      "outputs": []
    },
    {
      "metadata": {
        "trusted": true,
        "_uuid": "90f675929f60b1ef543526faa3a2a2d0352bdb20"
      },
      "cell_type": "code",
      "source": "dataset['topic_prob'] = dataset['project_is_approved_y']\ntest['topic_prob'] = test['project_is_approved']",
      "execution_count": null,
      "outputs": []
    },
    {
      "metadata": {
        "trusted": true,
        "_uuid": "1bde6214eea97c09a37f68a4dd19aa548969ce3e"
      },
      "cell_type": "code",
      "source": "dataset.drop('project_is_approved_y' , axis = 1 , inplace =True)\n",
      "execution_count": null,
      "outputs": []
    },
    {
      "metadata": {
        "trusted": true,
        "_uuid": "93cc5102bf1a79d9cd73da0d291901587dd3dfff"
      },
      "cell_type": "code",
      "source": "test.drop('project_is_approved' , axis = 1 , inplace =True)",
      "execution_count": null,
      "outputs": []
    },
    {
      "metadata": {
        "_uuid": "784df93827bb6baaa5e39eb829e95388f2fed675"
      },
      "cell_type": "markdown",
      "source": "**Hence no significant information based on date of proposal. therefore we can dop the date feature**"
    },
    {
      "metadata": {
        "trusted": true,
        "_uuid": "1eca7a75e7adb3a9cfdb3d7e0bb893fa73f6dad4"
      },
      "cell_type": "code",
      "source": "dataset",
      "execution_count": null,
      "outputs": []
    },
    {
      "metadata": {
        "_uuid": "7ed99163e051bec0f425fe3b1f51689bbc1f672d"
      },
      "cell_type": "markdown",
      "source": ""
    },
    {
      "metadata": {
        "_uuid": "12981d238b84a8e6f4a2b95f7a9568ae1d8b9a2d"
      },
      "cell_type": "markdown",
      "source": ""
    },
    {
      "metadata": {
        "trusted": true,
        "_uuid": "69c60396ca637ad1ee47e4b175677d3dd4d794c0"
      },
      "cell_type": "code",
      "source": "dataset.drop(['teacher_id' , 'project_resource_summary' , 'project_essay_1' , 'project_title'] , axis = 1 , inplace = True)\ntest.drop(['teacher_id' , 'project_resource_summary' , 'project_essay_1' , 'project_title'] , axis = 1 , inplace = True)",
      "execution_count": null,
      "outputs": []
    },
    {
      "metadata": {
        "trusted": true,
        "_uuid": "8e47fd3d3962df30e841aa46c985b41bc08474ff"
      },
      "cell_type": "code",
      "source": "dataset",
      "execution_count": null,
      "outputs": []
    },
    {
      "metadata": {
        "_uuid": "cf26968e66b8e6875a0ebea90ca2cc19670397a5"
      },
      "cell_type": "markdown",
      "source": "AS WE HAVE OBSERVED EARLIER THAT, PROJECTS PITCHED BY MR. MRS. MS HAVE GREATER CHANCE TO BE SELECTED, RATHER THAN BY DR. OR TEACHER\n\nMR. , MRS. , MS -> GENERAL\nDR. , TEACHER -> PROFESSIONAL"
    },
    {
      "metadata": {
        "trusted": true,
        "_uuid": "c7954a206b65cacf4ce690f074fa05b7b454736b"
      },
      "cell_type": "code",
      "source": "dataset['teacher_prefix'] = dataset['teacher_prefix'].replace('Mr.', 'general').replace('Mrs.', 'general').replace('Ms.', 'general').replace('Dr.', 'professional').replace('Teacher', 'professional')\ntest['teacher_prefix'] = test['teacher_prefix'].replace('Mr.', 'general').replace('Mrs.', 'general').replace('Ms.', 'general').replace('Dr.', 'professional').replace('Teacher', 'professional')",
      "execution_count": null,
      "outputs": []
    },
    {
      "metadata": {
        "trusted": true,
        "_uuid": "9ed70dca04b99bf6a04cc6db079e126cb93fdb86"
      },
      "cell_type": "code",
      "source": "dataset.drop('project_submitted_datetime' , axis = 1 , inplace =True)\ntest.drop('project_submitted_datetime' , axis = 1 , inplace =True)",
      "execution_count": null,
      "outputs": []
    },
    {
      "metadata": {
        "trusted": true,
        "_uuid": "31ee737f393e7e2d343dcbbad0958f54544ef366"
      },
      "cell_type": "code",
      "source": "dataset",
      "execution_count": null,
      "outputs": []
    },
    {
      "metadata": {
        "trusted": true,
        "_uuid": "bde4da478249a1077edfc25a43a3f64da1a79e4d"
      },
      "cell_type": "code",
      "source": "[dataset] = [pd.get_dummies(data = df, columns = ['teacher_prefix']) for df in [dataset]]\n[test] = [pd.get_dummies(data = df, columns = ['teacher_prefix']) for df in [test]]",
      "execution_count": null,
      "outputs": []
    },
    {
      "metadata": {
        "trusted": true,
        "_uuid": "a8c6836d56ffd69457eaa89a5a4044d6c1da01d4"
      },
      "cell_type": "code",
      "source": "y = np.array(dataset['project_is_approved_x']).reshape( (len(dataset) , 1) )\ndataset.drop(['id', 'project_is_approved_x'] , axis = 1, inplace = True)\nid = test['id']\ntest.drop(['id'] , axis = 1, inplace = True)",
      "execution_count": null,
      "outputs": []
    },
    {
      "metadata": {
        "trusted": true,
        "_uuid": "0e6c820045faef3b888bf2b7b9fcda769a51867c"
      },
      "cell_type": "code",
      "source": "from sklearn.preprocessing import Normalizer\nnormalizer = Normalizer()\ndataset.iloc[: , :3] = normalizer.fit_transform(dataset.iloc[: , :3])\n",
      "execution_count": null,
      "outputs": []
    },
    {
      "metadata": {
        "trusted": true,
        "_uuid": "35eda753a1e75fc1b8290dfcfbe4da084d4cc112"
      },
      "cell_type": "code",
      "source": "test.fillna(test['topic_prob'].mean() , inplace = True , axis =1)",
      "execution_count": null,
      "outputs": []
    },
    {
      "metadata": {
        "trusted": true,
        "_uuid": "3cd7c039a4d03d641d7b36f85c88d198512e7d41"
      },
      "cell_type": "code",
      "source": "test.iloc[: , :3] = normalizer.transform(test.iloc[: , :3])",
      "execution_count": null,
      "outputs": []
    },
    {
      "metadata": {
        "trusted": true,
        "_uuid": "b1e27ccbfe2c16bd25b3c56b8ede88ed05824602"
      },
      "cell_type": "code",
      "source": "from sklearn.model_selection import train_test_split\nx_train , x_val , y_train , y_val = train_test_split(dataset , y , test_size = 0.2) ",
      "execution_count": null,
      "outputs": []
    },
    {
      "metadata": {
        "trusted": true,
        "_uuid": "06105c9a069a83ab5f55781a3c2d80a5a2c3e71e"
      },
      "cell_type": "code",
      "source": "x_train.shape",
      "execution_count": null,
      "outputs": []
    },
    {
      "metadata": {
        "trusted": true,
        "_uuid": "24824533ea43582fe6e485d33850370b21f8e440"
      },
      "cell_type": "code",
      "source": "# Importing the Keras libraries and packages\nimport keras\nfrom keras.models import Sequential\nfrom keras.layers import Dense\n\n# Initialising the ANN\nclassifier = Sequential()\n\n# Adding the input layer and the first hidden layer\nclassifier.add(Dense(units = 5, kernel_initializer = 'uniform', activation = 'relu', input_dim = 5))\n\n# Adding the second hidden layer\nclassifier.add(Dense(units = 6, kernel_initializer = 'uniform', activation = 'sigmoid'))\n\n# Adding the output layer\nclassifier.add(Dense(units = 1, kernel_initializer = 'uniform', activation = 'relu'))\n\n# Compiling the ANN\nclassifier.compile(optimizer = 'adam', loss = 'binary_crossentropy', metrics = ['accuracy'])\n\n# Fitting the ANN to the Training set\nclassifier.fit(x_train, y_train, batch_size = 100, epochs = 10)\n\n# Part 3 - Making pred",
      "execution_count": null,
      "outputs": []
    },
    {
      "metadata": {
        "trusted": true,
        "_uuid": "ac1d469769fc717a2f2fadcfd70d1b6d9c4aceb4"
      },
      "cell_type": "code",
      "source": "y_pred_ann = classifier.predict(x_val)\ny_pred_ann_threshold = classifier.predict(x_train)",
      "execution_count": null,
      "outputs": []
    },
    {
      "metadata": {
        "trusted": true,
        "_uuid": "e75bcce4eeddb93e9d75555d01aa3216578bd812"
      },
      "cell_type": "code",
      "source": "len(y_pred_ann_threshold[y_train == 0])",
      "execution_count": null,
      "outputs": []
    },
    {
      "metadata": {
        "trusted": true,
        "_uuid": "7eac74d83da361eebf7ac0e35be6f5e0e61f6530"
      },
      "cell_type": "code",
      "source": "y_pred_ann_threshold[y_train == 1][:22154]",
      "execution_count": null,
      "outputs": []
    },
    {
      "metadata": {
        "trusted": true,
        "_uuid": "0a427e31afc40f44b21af834cad4590ef41bdb69"
      },
      "cell_type": "code",
      "source": "y_train_thresh = np.concatenate(( y_pred_ann_threshold[y_train == 0] , y_pred_ann_threshold[y_train == 1][:28000]) , axis =0)",
      "execution_count": null,
      "outputs": []
    },
    {
      "metadata": {
        "trusted": true,
        "_uuid": "8b01e8a18e21b7a08c78146db82f64b679b270e2"
      },
      "cell_type": "code",
      "source": "y_y_thresh = np.concatenate(( y_train[y_train == 0] , y_train[y_train == 1][:28000]) , axis =0)",
      "execution_count": null,
      "outputs": []
    },
    {
      "metadata": {
        "trusted": true,
        "_uuid": "387780f8b0c7595ead03cddec531dfacf5f3b218"
      },
      "cell_type": "code",
      "source": "from sklearn.linear_model import LogisticRegression\nlog_reg = LogisticRegression()\nlog_reg.fit(y_train_thresh.reshape((len(y_train_thresh) , 1)) , y_y_thresh.reshape((len(y_y_thresh) , 1)))",
      "execution_count": null,
      "outputs": []
    },
    {
      "metadata": {
        "trusted": true,
        "_uuid": "3d6615a6b5a40afe978db57ee892ba9f46bef6e4"
      },
      "cell_type": "code",
      "source": "y_pred = log_reg.predict(y_pred_ann)",
      "execution_count": null,
      "outputs": []
    },
    {
      "metadata": {
        "trusted": true,
        "_uuid": "38624df24b45808a68a6c5ac14c383d5c3490a0c"
      },
      "cell_type": "code",
      "source": "",
      "execution_count": null,
      "outputs": []
    },
    {
      "metadata": {
        "trusted": true,
        "_uuid": "9cc44ffc0daaaab89c504dad6e2bea617a38c3d1"
      },
      "cell_type": "code",
      "source": "from sklearn.metrics import confusion_matrix , accuracy_score\nprint(confusion_matrix(y_pred , y_val))\nprint(accuracy_score(y_pred , y_val))\n",
      "execution_count": null,
      "outputs": []
    },
    {
      "metadata": {
        "trusted": true,
        "_uuid": "ecc704b0c279c0d8951065f4bc98ebd0423fd6be"
      },
      "cell_type": "code",
      "source": "print(len(y_val))\nprint(y_val.sum())",
      "execution_count": null,
      "outputs": []
    },
    {
      "metadata": {
        "trusted": true,
        "_uuid": "43bfe591c7081002b1e8a2d8e8052d2b7cb8a319"
      },
      "cell_type": "code",
      "source": "result = classifier.predict(test)",
      "execution_count": null,
      "outputs": []
    },
    {
      "metadata": {
        "trusted": true,
        "_uuid": "11502cb2f72549a0a5434e16b044ce80c2c97324"
      },
      "cell_type": "code",
      "source": "result = log_reg.predict(result)",
      "execution_count": null,
      "outputs": []
    },
    {
      "metadata": {
        "trusted": true,
        "_uuid": "bdddbee4854b57b44826846c1cb4c0e8c367c884"
      },
      "cell_type": "code",
      "source": "final = pd.DataFrame()\nfinal['id'] = id\nfinal['project_is_approved'] = result",
      "execution_count": null,
      "outputs": []
    },
    {
      "metadata": {
        "trusted": true,
        "_uuid": "51e911e699eb62b88db7a8a0ea56fc898cadba65"
      },
      "cell_type": "code",
      "source": "final.to_csv('result_1.csv' , index = False)",
      "execution_count": null,
      "outputs": []
    }
  ],
  "metadata": {
    "kernelspec": {
      "display_name": "Python 3",
      "language": "python",
      "name": "python3"
    },
    "language_info": {
      "name": "python",
      "version": "3.6.6",
      "mimetype": "text/x-python",
      "codemirror_mode": {
        "name": "ipython",
        "version": 3
      },
      "pygments_lexer": "ipython3",
      "nbconvert_exporter": "python",
      "file_extension": ".py"
    }
  },
  "nbformat": 4,
  "nbformat_minor": 1
}